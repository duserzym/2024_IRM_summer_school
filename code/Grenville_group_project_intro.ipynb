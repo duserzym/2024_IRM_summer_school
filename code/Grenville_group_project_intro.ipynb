{
 "cells": [
  {
   "cell_type": "markdown",
   "metadata": {},
   "source": [
    "# Introduction to the Grenville orogen project\n",
    "\n",
    "## Geologic and paleogeographic background on the Grenville orogen and the assembly of supercontinent Rodinia\n",
    "\n",
    "- Rodinia is a Proterozoic supercontinent that formed around 1 Ga and broke up through the Neoproterozoic\n",
    "- Grenville orogen is the last major event that led to the assembly of Rodinia\n",
    "- It is a collisional orogenesis that involved the North America craton, Laurentia, and at least the South America craton, Amazonia\n",
    "- What led to this collision was a period of very rapid plate tectonic motion of Laurentia together with previously assembled continents from high latitudes to the equator\n",
    "- As a result, the scale of the collision was huge--bigger than the Hymalayans; and the regional metamorphism associated with the collision reached granulite facies--a temperature of up to 950 C!\n",
    "- This implies that had the rocks in the orogen acquired previous remanence, they were overwritten during heating and cooling of the orogen\n",
    "- Therefore, magnetic remanence of rocks of the Grenville orogen will be helpful for constaining the position of Laurentia and Rodinia post-orogen, where there is a 300 Myr lack of data\n",
    "- However, using metamorphic rocks for paleomagnetism is difficult because slow cooling has an effect of lowering natural blocking temperature. This makes dating the age of the paleomagnetic remanence difficult. Metamorphic fluid and heat-related chemical processes also adds uncertainty to the origin of the remanence (TRM or CRM), making the poles even harder to date. "
   ]
  },
  {
   "cell_type": "markdown",
   "metadata": {},
   "source": [
    "## We can use seafloor magnetic anomalies, geophysical and geological data to reconstruct Pangea (M&uuml;ller et al., 2016)\n",
    "\n",
    "![GIF](Muller_etal_AREPS_AgeGrid.gif)\n",
    "\n",
    "## However, seafloor magnetic anomaly data is not available for deeper time\n",
    "- the only quantitative way for constrainig the position of continents in the deep past is through paleomagnetism\n",
    "- that paleomagnetic poles recorded by rocks can tell paleolatitude and orientation of the continent at the time of the remanence acquisition\n",
    "- developing a series of poles for a continent back in time can allow reconstruction of the continent's plate tectonic history\n",
    "- there has been tremendous progress on developing high-quality data in the Precambrian in the past decades\n",
    "- suggested reading: **Ancient Supercontinents and the Paleogeography of Earth (DOI: https://doi.org/10.1016/c2018-0-03855-4)**\n",
    "\n",
    "## Igneous, sedimentary, and metamorphic rocks can all record paleomagnetic data, but through different processes\n",
    "- igneous rocks can acquire primary thermal remanence during cooling\n",
    "- sedimentary rocks can acquire detrital remanence during deposition\n",
    "- metamorphic rocks can acquire remanence during complex thermal histories\n",
    "\n",
    "## In this project, we will be looking at rocks that have the potential to reconstruct the supercontinent Rodinia in the Neoproterozoic\n",
    "\n",
    "- Swanson-Hysell et al., 2023 gives an up-to-date review of the assembly and breakup of Rodinia\n",
    "- we identify that there is a major, 300 Myr gap in the reconstruction ca. 1060-775 Ma\n",
    "- this is due to a lack of wel-dated quantitative constraint on the position of Laurentia during this time \n",
    "<img src=\"Rodinia_evolution.png\" alt=\"Rodinia\" width=\"1000\"/>\n",
    "\n",
    "## There is a new sedimentary pole from the Jacobsville Formation that constrains the position of Laurentia ca. 990 Ma\n",
    "<img src=\"Jacobsville_pole_plot.png\" alt=\"Jacobsville_pole_plot\" width=\"500\"/>\n",
    "\n",
    "## This new pole is different than previous poles developed from metamorphic rocks of the Grenville orogen that were thought to be the same age\n",
    "<img src=\"Jacobsville_paleogeography.png\" alt=\"Jacobsville_paleogeography\" width=\"500\"/>\n",
    "\n",
    "# How to constrain the timing of magnetic remanence acquisition in metamorphic rocks?\n",
    "- we need to pair thermochronologic data with paleomagnetic data\n",
    "## a few questions will need to be addressed\n",
    "- what is the magnetic mineral assemblage in the rocks?\n",
    "- through what process did each mineral acquire remanence? (TRM, CRM)\n",
    "- if TRM, over what temperature range did that remanence component block in?\n",
    "- how to date the timing of the remanence acquisition? (U-Pb, Ar-Ar, etc.)\n",
    "\n",
    "## In this project, we will primarily look at gabbroic and anorthositic rocks of the Grenville orogen\n",
    "- they are from the following regions (we will see how much lab time we get)\n",
    "- Marcy Massif anorthosite in the Adirondack Highlands in upstate New York\n",
    "- Lac Saint-Jean anorthosite in Quebec\n",
    "- Whitestone anorthosite in Ontario\n",
    "- "
   ]
  },
  {
   "cell_type": "markdown",
   "metadata": {},
   "source": [
    "\n"
   ]
  },
  {
   "cell_type": "markdown",
   "metadata": {},
   "source": []
  },
  {
   "cell_type": "markdown",
   "metadata": {},
   "source": [
    "\n",
    "### Lac St. Jean anorthosite \n",
    "- the largest anorthosite intrusive body known in the Grenville orogen\n",
    "- new high-resolution thermal demagnetization data show complexities in remanence components\n",
    "- some are single-component remanence with sharp unblocking temperature near 580 (SJ1)\n",
    "- some have distinct components at high temperature and mid-temperature (400-550)\n",
    "- the mid-temperature component can have more southerly pole position than the high-temp component (SJ5), or have similar pole position as the high-temp component (SJ14)\n",
    "- from previous literature, in mixed-polarity sites of the Lac St-Jean area, blocking temperatures of one component may be above, below, or overlapping those of the other component (Buchan 1983)\n",
    "\n",
    "### Whitestone anorthosite\n",
    "- intruded into gneiss and marbles of the Whitestone Lake Formation \n",
    "- magmatic zircon abundant and show ca. 1300 Ma ages\n",
    "- titanite show no zoning and have ca. 1100 Ma ages\n",
    "- previously studied 1975, when slow cooling correction theory was not available. Although authors recognized slow cooling issue, they erroneously assigned that the temperature for remanence acquisition is very low\n",
    "\n",
    "\n",
    "**Goal at the IRM**\n",
    "#### Lac St. Jean anorthosite \n",
    "- let's develop hysteresis loops, backfield coercivity spectra, and MPMS to identify the dominant magnetic mineralogy and distinct groups\n",
    "- use low temp data to identify stoichiometry and mineral species\n",
    "- use backfield to unmix for groups in SJ5 and try to test if there are two distinct magnetic mineral groups that carry the different remanence components\n",
    "- use the same method on a single component sample SJ1 and compare the results with SJ5\n",
    "\n",
    "#### Whitestone anorthosite\n",
    "- **WS3-1** and **WS3-2** have very different mineralogy from thermal demag data. They are from the outer edge of the intrusion which might be more prone to fluid-associated alteration\n",
    "- it looks like 1a is dominated by pyrrhotite remanence while 2a is dominated by stoichiometric magnetite\n",
    "- let's use low temperature experiment and coercivity spectra to explore their magnetic mineralogy difference\n",
    "- specimens of **WS9** hint that there are two distinct components carried by magnetite that unblock at slightly different temerpatures\n",
    "- Let's see if we can distinguish them with rock mag methods. This site is from the inner part of the intrusion which may have igneous foliation\n",
    "- we should explore anisotropy of remanence\n",
    "\n",
    "#### Haliburton Highlands (Yiming)\n",
    "- bring site HH8 for rock mag and show magnetite stoichiometry\n",
    "\n",
    "#### Thanet Gabbro (Yiming)\n",
    "- we can compare **TH1-1** and **TH1-5**\n",
    "- 1a seems to have two magnetite components, 5a seems to have dominant pyrrhotite component\n",
    "\n",
    "#### Tudor Gabbro (Yiming)\n",
    "- origin trending component unblock through a large temperature range\n",
    "- overall direction is NW and up, resulting in a pole position north to SE Asia\n",
    "- some samples show distinct high temp component unblokcing 575-580 and another component 500-560\n",
    "- some samples have a dominant pyrrhotite component \n",
    "- compare **TU1-3** and **TU1-5** and **TU1-6**"
   ]
  },
  {
   "cell_type": "code",
   "execution_count": null,
   "metadata": {},
   "outputs": [],
   "source": []
  },
  {
   "cell_type": "code",
   "execution_count": null,
   "metadata": {},
   "outputs": [],
   "source": []
  }
 ],
 "metadata": {
  "kernelspec": {
   "display_name": "base",
   "language": "python",
   "name": "python3"
  },
  "language_info": {
   "codemirror_mode": {
    "name": "ipython",
    "version": 3
   },
   "file_extension": ".py",
   "mimetype": "text/x-python",
   "name": "python",
   "nbconvert_exporter": "python",
   "pygments_lexer": "ipython3",
   "version": "3.9.13"
  }
 },
 "nbformat": 4,
 "nbformat_minor": 2
}
